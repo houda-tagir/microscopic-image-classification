{
 "cells": [
  {
   "cell_type": "markdown",
   "id": "6c1f0757",
   "metadata": {},
   "source": [
    "### 1) Setup (paths + imports)"
   ]
  },
  {
   "cell_type": "code",
   "execution_count": 9,
   "id": "6b33c074",
   "metadata": {},
   "outputs": [],
   "source": [
    "import numpy as np\n",
    "import matplotlib.pyplot as plt\n",
    "import joblib\n",
    "from pathlib import Path\n",
    "import sys, os\n",
    "import joblib\n"
   ]
  },
  {
   "cell_type": "code",
   "execution_count": 10,
   "id": "803acff9",
   "metadata": {},
   "outputs": [],
   "source": [
    "REPO_ROOT = os.path.abspath(os.path.join(os.getcwd(), \"..\"))\n",
    "if REPO_ROOT not in sys.path:\n",
    "    sys.path.insert(0, REPO_ROOT)\n",
    "MODELS_DIR = Path(REPO_ROOT) / \"models\"\n",
    "MODEL_PATH = MODELS_DIR / \"automl_best_one.pkl\"\n",
    "LE_PATH    = MODELS_DIR / \"label_encoder.pkl\"\n",
    "IMAGES_DIR = Path(REPO_ROOT) / \"sample_images\"\n",
    "SCALER_PATH = MODELS_DIR / \"scaler.pkl\"  \n",
    "from src.extract_features import extract_enhanced_features\n"
   ]
  },
  {
   "cell_type": "markdown",
   "id": "39c66ad8",
   "metadata": {},
   "source": [
    "### 2) Load model + label encoder"
   ]
  },
  {
   "cell_type": "code",
   "execution_count": 11,
   "id": "97bb6f8e",
   "metadata": {},
   "outputs": [],
   "source": [
    "model = joblib.load(MODEL_PATH)\n",
    "scaler = joblib.load(SCALER_PATH)\n",
    "le    = joblib.load(LE_PATH)\n",
    "\n",
    "\n"
   ]
  },
  {
   "cell_type": "markdown",
   "id": "6a89c618",
   "metadata": {},
   "source": [
    "### 3) Collect images to test\n"
   ]
  },
  {
   "cell_type": "code",
   "execution_count": 12,
   "id": "2913ff37",
   "metadata": {},
   "outputs": [],
   "source": [
    "# Recursively collect image paths (jpg/png/tif…)\n",
    "exts = {\".jpg\",\".jpeg\",\".png\",\".bmp\",\".tif\",\".tiff\"}\n",
    "all_imgs = [p for p in IMAGES_DIR.rglob(\"*\") if p.suffix.lower() in exts]\n",
    "\n"
   ]
  },
  {
   "cell_type": "code",
   "execution_count": 15,
   "id": "5eec5561",
   "metadata": {},
   "outputs": [],
   "source": [
    "all_imgs = [p for p in IMAGES_DIR.rglob(\"*\") if p.suffix.lower() in exts]\n",
    "\n",
    "if len(all_imgs) == 0:\n",
    "    raise FileNotFoundError(\n",
    "        f\"No images found in {IMAGES_DIR}. \"\n",
    "        \"Add a few test images under sample_images/<class_name>/image.jpg\"\n",
    "    )\n",
    "test_paths = all_imgs"
   ]
  },
  {
   "cell_type": "code",
   "execution_count": 16,
   "id": "daa182d8",
   "metadata": {},
   "outputs": [
    {
     "name": "stdout",
     "output_type": "stream",
     "text": [
      "[1] basophil.jpg: Basophil (100.0%)\n",
      "[2] esinophil.jpg: Lymphocyte (42.8%)\n",
      "[3] lymphocyte.jpg: Monocyte (38.6%)\n",
      "[4] monocyte.jpg: Monocyte (88.2%)\n",
      "[5] neutrophil.jpg: Neutrophil (59.8%)\n"
     ]
    }
   ],
   "source": [
    "# Just extract features - no manual scaling!\n",
    "def extract_features(image_paths):\n",
    "    X = [extract_enhanced_features(p) for p in image_paths]\n",
    "    return np.array(X, dtype=np.float32)\n",
    "\n",
    "# Extract features\n",
    "X_test = extract_features(test_paths)\n",
    "\n",
    "# Pipeline handles scaling + SMOTE + prediction internally\n",
    "y_pred = model.predict(X_test)\n",
    "y_pred_proba = model.predict_proba(X_test)\n",
    "pred_labels = le.inverse_transform(y_pred)\n",
    "confidences = np.max(y_pred_proba, axis=1)\n",
    "\n",
    "# Display results\n",
    "for i, (img_path, pred_label, conf) in enumerate(zip(test_paths, pred_labels, confidences), 1):\n",
    "    print(f\"[{i}] {img_path.name}: {pred_label} ({conf:.1%})\")"
   ]
  },
  {
   "cell_type": "code",
   "execution_count": null,
   "id": "fc62df3b",
   "metadata": {},
   "outputs": [],
   "source": []
  }
 ],
 "metadata": {
  "kernelspec": {
   "display_name": "tf",
   "language": "python",
   "name": "python3"
  },
  "language_info": {
   "codemirror_mode": {
    "name": "ipython",
    "version": 3
   },
   "file_extension": ".py",
   "mimetype": "text/x-python",
   "name": "python",
   "nbconvert_exporter": "python",
   "pygments_lexer": "ipython3",
   "version": "3.10.18"
  }
 },
 "nbformat": 4,
 "nbformat_minor": 5
}
